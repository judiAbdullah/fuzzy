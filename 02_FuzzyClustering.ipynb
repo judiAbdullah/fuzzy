{
 "cells": [
  {
   "cell_type": "markdown",
   "metadata": {},
   "source": [
    "# Fuzzy c-means clustering\n",
    "\n",
    "Fuzzy logic principles can be used to cluster multidimensional data, assigning each point a membership in each cluster center from 0 to 100 percent. This can be very powerful compared to traditional hard-thresholded clustering where every point is assigned a crisp, exact label.\n",
    "\n",
    "Fuzzy c-means clustering is accomplished via `skfuzzy.cmeans`, and the output from this function can be repurposed to classify new data according to the calculated clusters (also known as prediction) via `skfuzzy.cmeans_predict`.\n",
    "\n",
    "\n",
    "\n",
    "\n"
   ]
  },
  {
   "cell_type": "markdown",
   "metadata": {},
   "source": [
    "# Data generation and setup\n",
    "\n",
    "In this example we will first undertake necessary imports, then define some test data to work with."
   ]
  },
  {
   "cell_type": "code",
   "execution_count": null,
   "metadata": {},
   "outputs": [],
   "source": [
    "from __future__ import division, print_function\n",
    "import numpy as np\n",
    "import matplotlib.pyplot as plt\n",
    "import skfuzzy as fuzz\n",
    "\n",
    "colors = ['b', 'orange', 'g', 'r', 'c', 'm', 'y', 'k', 'Brown', 'ForestGreen']\n",
    "\n",
    "# Define three cluster centers\n",
    "centers = [[4, 2],\n",
    "           [1, 7],\n",
    "           [5, 6]]\n",
    "\n",
    "# Define three cluster sigmas in x and y, respectively\n",
    "sigmas = [[0.8, 0.3],\n",
    "          [0.3, 0.5],\n",
    "          [1.1, 0.7]]\n",
    "\n",
    "# Generate test data\n",
    "np.random.seed(42)  # Set seed for reproducibility\n",
    "xpts = np.zeros(1)\n",
    "ypts = np.zeros(1)\n",
    "labels = np.zeros(1)\n",
    "for i, ((xmu, ymu), (xsigma, ysigma)) in enumerate(zip(centers, sigmas)):\n",
    "    xpts = np.hstack((xpts, np.random.standard_normal(200) * xsigma + xmu))\n",
    "    ypts = np.hstack((ypts, np.random.standard_normal(200) * ysigma + ymu))\n",
    "    labels = np.hstack((labels, np.ones(200) * i))\n",
    "\n",
    "# Visualize the test data\n",
    "fig0, ax0 = plt.subplots()\n",
    "for label in range(3):\n",
    "    ax0.plot(xpts[labels == label], ypts[labels == label], '.',\n",
    "             color=colors[label])\n",
    "ax0.set_title('Test data: 200 points x3 clusters.')\n"
   ]
  },
  {
   "cell_type": "markdown",
   "metadata": {},
   "source": [
    "# Clustering\n",
    "\n",
    "Above is our test data. We see three distinct blobs. However, what would happen if we didn’t know how many clusters we should expect? Perhaps if the data were not so clearly clustered?\n",
    "Let’s try clustering our data several times, with between 2 and 9 clusters."
   ]
  },
  {
   "cell_type": "code",
   "execution_count": null,
   "metadata": {},
   "outputs": [],
   "source": [
    "# Set up the loop and plot\n",
    "fig1, axes1 = plt.subplots(3, 3, figsize=(8, 8))\n",
    "alldata = np.vstack((xpts, ypts))\n",
    "fpcs = []\n",
    "\n",
    "for ncenters, ax in enumerate(axes1.reshape(-1), 2):\n",
    "    cntr, u, u0, d, jm, p, fpc = fuzz.cluster.cmeans(\n",
    "        alldata, ncenters, 2, error=0.005, maxiter=1000, init=None)\n",
    "\n",
    "    # Store fpc values for later\n",
    "    fpcs.append(fpc)\n",
    "\n",
    "    # Plot assigned clusters, for each data point in training set\n",
    "    cluster_membership = np.argmax(u, axis=0)\n",
    "    for j in range(ncenters):\n",
    "        ax.plot(xpts[cluster_membership == j],\n",
    "                ypts[cluster_membership == j], '.', color=colors[j])\n",
    "\n",
    "    # Mark the center of each fuzzy cluster\n",
    "    for pt in cntr:\n",
    "        ax.plot(pt[0], pt[1], 'rs')\n",
    "\n",
    "    ax.set_title('Centers = {0}; FPC = {1:.2f}'.format(ncenters, fpc))\n",
    "    ax.axis('off')\n",
    "\n",
    "fig1.tight_layout()\n"
   ]
  },
  {
   "cell_type": "markdown",
   "metadata": {},
   "source": [
    "# The fuzzy partition coefficient (FPC)\n",
    "\n",
    "The FPC is defined on the range from 0 to 1, with 1 being best. It is a metric which tells us how cleanly our data is described by a certain model. Next we will cluster our set of data - which we know has three clusters - several times, with between 2 and 9 clusters. We will then show the results of the clustering, and plot the fuzzy partition coefficient. When the FPC is maximized, our data is described best.\n"
   ]
  },
  {
   "cell_type": "code",
   "execution_count": null,
   "metadata": {},
   "outputs": [],
   "source": [
    "fig2, ax2 = plt.subplots()\n",
    "ax2.plot(np.r_[2:11], fpcs)\n",
    "ax2.set_xlabel(\"Number of centers\")\n",
    "ax2.set_ylabel(\"Fuzzy partition coefficient\")"
   ]
  },
  {
   "cell_type": "markdown",
   "metadata": {},
   "source": [
    "As we can see, the ideal number of centers is 3. This isn’t news for our contrived example, but having the FPC available can be very useful when the structure of your data is unclear.\n",
    "\n",
    "Note that we started with two centers, not one; clustering a dataset with only one cluster center is the trivial solution and will by definition return FPC == 1."
   ]
  },
  {
   "cell_type": "markdown",
   "metadata": {},
   "source": [
    "# Classifying New Data\n",
    "Now that we can cluster data, the next step is often fitting new points into an existing model. This is known as prediction. It requires both an existing model and new data to be classified.\n",
    "\n",
    "## Building the model\n",
    "We know our best model has three cluster centers. We’ll rebuild a 3-cluster model for use in prediction, generate new uniform data, and predict which cluster to which each new data point belongs."
   ]
  },
  {
   "cell_type": "code",
   "execution_count": null,
   "metadata": {},
   "outputs": [],
   "source": [
    "# Regenerate fuzzy model with 3 cluster centers - note that center ordering\n",
    "# is random in this clustering algorithm, so the centers may change places\n",
    "cntr, u_orig, _, _, _, _, _ = fuzz.cluster.cmeans(\n",
    "    alldata, 3, 2, error=0.005, maxiter=1000)\n",
    "\n",
    "# Show 3-cluster model\n",
    "fig2, ax2 = plt.subplots()\n",
    "ax2.set_title('Trained model')\n",
    "for j in range(3):\n",
    "    ax2.plot(alldata[0, u_orig.argmax(axis=0) == j],\n",
    "             alldata[1, u_orig.argmax(axis=0) == j], 'o',\n",
    "             label='series ' + str(j))\n",
    "ax2.legend()"
   ]
  },
  {
   "cell_type": "markdown",
   "metadata": {},
   "source": [
    "# Prediction\n",
    "\n",
    "Finally, we generate uniformly sampled data over this field and classify it via `cmeans_predict`, incorporating it into the pre-existing model."
   ]
  },
  {
   "cell_type": "code",
   "execution_count": null,
   "metadata": {},
   "outputs": [],
   "source": [
    "# Generate uniformly sampled data spread across the range [0, 10] in x and y\n",
    "newdata = np.random.uniform(0, 1, (1100, 2)) * 10\n",
    "\n",
    "# Predict new cluster membership with `cmeans_predict` as well as\n",
    "# `cntr` from the 3-cluster model\n",
    "u, u0, d, jm, p, fpc = fuzz.cluster.cmeans_predict(\n",
    "    newdata.T, cntr, 2, error=0.005, maxiter=1000)\n",
    "\n",
    "# Plot the classified uniform data. Note for visualization the maximum\n",
    "# membership value has been taken at each point (i.e. these are hardened,\n",
    "# not fuzzy results visualized) but the full fuzzy result is the output\n",
    "# from cmeans_predict.\n",
    "cluster_membership = np.argmax(u, axis=0)  # Hardening for visualization\n",
    "\n",
    "fig3, ax3 = plt.subplots()\n",
    "ax3.set_title('Random points classifed according to known centers')\n",
    "for j in range(3):\n",
    "    ax3.plot(newdata[cluster_membership == j, 0],\n",
    "             newdata[cluster_membership == j, 1], 'o',\n",
    "             label='series ' + str(j))\n",
    "ax3.legend()\n",
    "\n",
    "plt.show()"
   ]
  },
  {
   "cell_type": "markdown",
   "metadata": {},
   "source": [
    "Source: https://pythonhosted.org/scikit-fuzzy/auto_examples/plot_cmeans.html#example-plot-cmeans-py\n"
   ]
  }
 ],
 "metadata": {
  "kernelspec": {
   "display_name": "pysec",
   "language": "python",
   "name": "python3"
  },
  "language_info": {
   "codemirror_mode": {
    "name": "ipython",
    "version": 3
   },
   "file_extension": ".py",
   "mimetype": "text/x-python",
   "name": "python",
   "nbconvert_exporter": "python",
   "pygments_lexer": "ipython3",
   "version": "3.11.9"
  }
 },
 "nbformat": 4,
 "nbformat_minor": 4
}
